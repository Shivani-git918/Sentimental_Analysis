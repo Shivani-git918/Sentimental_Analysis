{
 "cells": [
  {
   "cell_type": "markdown",
   "id": "85a1736b-8eee-4e56-963b-4e1ccbd32d0f",
   "metadata": {},
   "source": [
    "# Sentimental Analysis"
   ]
  },
  {
   "cell_type": "markdown",
   "id": "b63c1e5a-5436-4871-955d-cad9138f3c64",
   "metadata": {},
   "source": [
    "#  Requirements"
   ]
  },
  {
   "cell_type": "raw",
   "id": "7b7a6d89-6a45-4273-b738-f3b7dd2cbb3f",
   "metadata": {},
   "source": [
    "*Cleaning of data\n",
    "*sentimental analysis \n",
    "*need positive and negative sentimenats with polarity\n",
    "*need graphs for the negative and positive tweets"
   ]
  },
  {
   "cell_type": "code",
   "execution_count": null,
   "id": "33494002-71db-4797-b1a9-565eef31bfed",
   "metadata": {},
   "outputs": [],
   "source": [
    "import pandas as pd"
   ]
  },
  {
   "cell_type": "code",
   "execution_count": 2,
   "id": "3e01392c-4715-497d-8f1e-9f3eb34b9049",
   "metadata": {},
   "outputs": [],
   "source": [
    "df= pd.read_csv(r'C:\\Users\\shivani\\PycharmProjects\\pythonProject2\\NEP_2020_english_tweet.csv')"
   ]
  },
  {
   "cell_type": "code",
   "execution_count": 3,
   "id": "7654d708-6d08-4b36-8f16-d39e6de22405",
   "metadata": {},
   "outputs": [
    {
     "data": {
      "text/html": [
       "<div>\n",
       "<style scoped>\n",
       "    .dataframe tbody tr th:only-of-type {\n",
       "        vertical-align: middle;\n",
       "    }\n",
       "\n",
       "    .dataframe tbody tr th {\n",
       "        vertical-align: top;\n",
       "    }\n",
       "\n",
       "    .dataframe thead th {\n",
       "        text-align: right;\n",
       "    }\n",
       "</style>\n",
       "<table border=\"1\" class=\"dataframe\">\n",
       "  <thead>\n",
       "    <tr style=\"text-align: right;\">\n",
       "      <th></th>\n",
       "      <th>Unnamed: 0</th>\n",
       "      <th>Author_ID</th>\n",
       "      <th>Date_of_tweet</th>\n",
       "      <th>Tweet</th>\n",
       "      <th>Likes_on_tweet</th>\n",
       "      <th>User_handle</th>\n",
       "      <th>Tweet_link</th>\n",
       "    </tr>\n",
       "  </thead>\n",
       "  <tbody>\n",
       "    <tr>\n",
       "      <th>0</th>\n",
       "      <td>0</td>\n",
       "      <td>60483175</td>\n",
       "      <td>2020-08-04 23:31:59+00:00</td>\n",
       "      <td>Historically #TamilNadu has been a state with ...</td>\n",
       "      <td>1</td>\n",
       "      <td>venkattcv</td>\n",
       "      <td>https://twitter.com/venkattcv/status/129079263...</td>\n",
       "    </tr>\n",
       "    <tr>\n",
       "      <th>1</th>\n",
       "      <td>1</td>\n",
       "      <td>1178900491595636736</td>\n",
       "      <td>2020-08-04 23:31:56+00:00</td>\n",
       "      <td>#HelloStrangerEP6 #HarrisonFord #GeorgeFloyd #...</td>\n",
       "      <td>0</td>\n",
       "      <td>BethEYoung3</td>\n",
       "      <td>https://twitter.com/BethEYoung3/status/1290792...</td>\n",
       "    </tr>\n",
       "    <tr>\n",
       "      <th>2</th>\n",
       "      <td>2</td>\n",
       "      <td>1072481505090318341</td>\n",
       "      <td>2020-08-04 22:22:30+00:00</td>\n",
       "      <td>@cbseindia29 @PMOIndia @narendramodi @DrRPNish...</td>\n",
       "      <td>1</td>\n",
       "      <td>PatelPrerak18</td>\n",
       "      <td>https://twitter.com/PatelPrerak18/status/12907...</td>\n",
       "    </tr>\n",
       "    <tr>\n",
       "      <th>3</th>\n",
       "      <td>3</td>\n",
       "      <td>583518901</td>\n",
       "      <td>2020-08-04 22:20:56+00:00</td>\n",
       "      <td>@PMOIndia’s anti-democratic #NEP2020 was 400+ ...</td>\n",
       "      <td>1</td>\n",
       "      <td>kchongpacrim</td>\n",
       "      <td>https://twitter.com/kchongpacrim/status/129077...</td>\n",
       "    </tr>\n",
       "    <tr>\n",
       "      <th>4</th>\n",
       "      <td>4</td>\n",
       "      <td>36339871</td>\n",
       "      <td>2020-08-04 21:01:14+00:00</td>\n",
       "      <td>The latest The Nursing Education Daily! http:/...</td>\n",
       "      <td>0</td>\n",
       "      <td>SkyscapeInc</td>\n",
       "      <td>https://twitter.com/SkyscapeInc/status/1290754...</td>\n",
       "    </tr>\n",
       "  </tbody>\n",
       "</table>\n",
       "</div>"
      ],
      "text/plain": [
       "   Unnamed: 0            Author_ID              Date_of_tweet  \\\n",
       "0           0             60483175  2020-08-04 23:31:59+00:00   \n",
       "1           1  1178900491595636736  2020-08-04 23:31:56+00:00   \n",
       "2           2  1072481505090318341  2020-08-04 22:22:30+00:00   \n",
       "3           3            583518901  2020-08-04 22:20:56+00:00   \n",
       "4           4             36339871  2020-08-04 21:01:14+00:00   \n",
       "\n",
       "                                               Tweet  Likes_on_tweet  \\\n",
       "0  Historically #TamilNadu has been a state with ...               1   \n",
       "1  #HelloStrangerEP6 #HarrisonFord #GeorgeFloyd #...               0   \n",
       "2  @cbseindia29 @PMOIndia @narendramodi @DrRPNish...               1   \n",
       "3  @PMOIndia’s anti-democratic #NEP2020 was 400+ ...               1   \n",
       "4  The latest The Nursing Education Daily! http:/...               0   \n",
       "\n",
       "     User_handle                                         Tweet_link  \n",
       "0      venkattcv  https://twitter.com/venkattcv/status/129079263...  \n",
       "1    BethEYoung3  https://twitter.com/BethEYoung3/status/1290792...  \n",
       "2  PatelPrerak18  https://twitter.com/PatelPrerak18/status/12907...  \n",
       "3   kchongpacrim  https://twitter.com/kchongpacrim/status/129077...  \n",
       "4    SkyscapeInc  https://twitter.com/SkyscapeInc/status/1290754...  "
      ]
     },
     "execution_count": 3,
     "metadata": {},
     "output_type": "execute_result"
    }
   ],
   "source": [
    "df.head(5)"
   ]
  },
  {
   "cell_type": "code",
   "execution_count": 73,
   "id": "b90b8b67-8334-4dff-b48e-f04551824027",
   "metadata": {},
   "outputs": [
    {
     "data": {
      "text/html": [
       "<div>\n",
       "<style scoped>\n",
       "    .dataframe tbody tr th:only-of-type {\n",
       "        vertical-align: middle;\n",
       "    }\n",
       "\n",
       "    .dataframe tbody tr th {\n",
       "        vertical-align: top;\n",
       "    }\n",
       "\n",
       "    .dataframe thead th {\n",
       "        text-align: right;\n",
       "    }\n",
       "</style>\n",
       "<table border=\"1\" class=\"dataframe\">\n",
       "  <thead>\n",
       "    <tr style=\"text-align: right;\">\n",
       "      <th></th>\n",
       "      <th>Author_ID</th>\n",
       "      <th>Likes_on_tweet</th>\n",
       "      <th>Hour</th>\n",
       "      <th>Sentiment_Score</th>\n",
       "      <th>Polarity</th>\n",
       "    </tr>\n",
       "  </thead>\n",
       "  <tbody>\n",
       "    <tr>\n",
       "      <th>count</th>\n",
       "      <td>1.824000e+04</td>\n",
       "      <td>18240.000000</td>\n",
       "      <td>18240.000000</td>\n",
       "      <td>18240.000000</td>\n",
       "      <td>18240.000000</td>\n",
       "    </tr>\n",
       "    <tr>\n",
       "      <th>mean</th>\n",
       "      <td>7.123397e+17</td>\n",
       "      <td>9.673026</td>\n",
       "      <td>11.760746</td>\n",
       "      <td>0.271237</td>\n",
       "      <td>0.271237</td>\n",
       "    </tr>\n",
       "    <tr>\n",
       "      <th>std</th>\n",
       "      <td>5.360665e+17</td>\n",
       "      <td>93.204689</td>\n",
       "      <td>4.982561</td>\n",
       "      <td>0.407530</td>\n",
       "      <td>0.407530</td>\n",
       "    </tr>\n",
       "    <tr>\n",
       "      <th>min</th>\n",
       "      <td>6.509832e+06</td>\n",
       "      <td>0.000000</td>\n",
       "      <td>0.000000</td>\n",
       "      <td>-0.962000</td>\n",
       "      <td>-0.962000</td>\n",
       "    </tr>\n",
       "    <tr>\n",
       "      <th>25%</th>\n",
       "      <td>2.314734e+09</td>\n",
       "      <td>0.000000</td>\n",
       "      <td>7.000000</td>\n",
       "      <td>0.000000</td>\n",
       "      <td>0.000000</td>\n",
       "    </tr>\n",
       "    <tr>\n",
       "      <th>50%</th>\n",
       "      <td>9.361723e+17</td>\n",
       "      <td>1.000000</td>\n",
       "      <td>13.000000</td>\n",
       "      <td>0.318200</td>\n",
       "      <td>0.318200</td>\n",
       "    </tr>\n",
       "    <tr>\n",
       "      <th>75%</th>\n",
       "      <td>1.231108e+18</td>\n",
       "      <td>2.000000</td>\n",
       "      <td>16.000000</td>\n",
       "      <td>0.648600</td>\n",
       "      <td>0.648600</td>\n",
       "    </tr>\n",
       "    <tr>\n",
       "      <th>max</th>\n",
       "      <td>1.293167e+18</td>\n",
       "      <td>6138.000000</td>\n",
       "      <td>23.000000</td>\n",
       "      <td>0.979300</td>\n",
       "      <td>0.979300</td>\n",
       "    </tr>\n",
       "  </tbody>\n",
       "</table>\n",
       "</div>"
      ],
      "text/plain": [
       "          Author_ID  Likes_on_tweet          Hour  Sentiment_Score  \\\n",
       "count  1.824000e+04    18240.000000  18240.000000     18240.000000   \n",
       "mean   7.123397e+17        9.673026     11.760746         0.271237   \n",
       "std    5.360665e+17       93.204689      4.982561         0.407530   \n",
       "min    6.509832e+06        0.000000      0.000000        -0.962000   \n",
       "25%    2.314734e+09        0.000000      7.000000         0.000000   \n",
       "50%    9.361723e+17        1.000000     13.000000         0.318200   \n",
       "75%    1.231108e+18        2.000000     16.000000         0.648600   \n",
       "max    1.293167e+18     6138.000000     23.000000         0.979300   \n",
       "\n",
       "           Polarity  \n",
       "count  18240.000000  \n",
       "mean       0.271237  \n",
       "std        0.407530  \n",
       "min       -0.962000  \n",
       "25%        0.000000  \n",
       "50%        0.318200  \n",
       "75%        0.648600  \n",
       "max        0.979300  "
      ]
     },
     "execution_count": 73,
     "metadata": {},
     "output_type": "execute_result"
    }
   ],
   "source": [
    "#measure central tendency and find all aspects of measurements  \n",
    "df.describe()"
   ]
  },
  {
   "cell_type": "code",
   "execution_count": 74,
   "id": "f4db66bb-29d5-4f34-aa0f-8e2c862bfc1b",
   "metadata": {},
   "outputs": [
    {
     "name": "stdout",
     "output_type": "stream",
     "text": [
      "<class 'pandas.core.frame.DataFrame'>\n",
      "RangeIndex: 18240 entries, 0 to 18239\n",
      "Data columns (total 11 columns):\n",
      " #   Column           Non-Null Count  Dtype              \n",
      "---  ------           --------------  -----              \n",
      " 0   Author_ID        18240 non-null  int64              \n",
      " 1   Date_of_tweet    18240 non-null  datetime64[ns, UTC]\n",
      " 2   Tweet            18240 non-null  object             \n",
      " 3   Likes_on_tweet   18240 non-null  int64              \n",
      " 4   User_handle      18240 non-null  object             \n",
      " 5   Tweet_link       18240 non-null  object             \n",
      " 6   Hour             18240 non-null  int64              \n",
      " 7   Clean_Tweet      18240 non-null  object             \n",
      " 8   Sentiment_Score  18240 non-null  float64            \n",
      " 9   Sentiment        18240 non-null  object             \n",
      " 10  Polarity         18240 non-null  float64            \n",
      "dtypes: datetime64[ns, UTC](1), float64(2), int64(3), object(5)\n",
      "memory usage: 1.5+ MB\n"
     ]
    }
   ],
   "source": [
    "#basic info\n",
    "df.info()"
   ]
  },
  {
   "cell_type": "code",
   "execution_count": 77,
   "id": "63067bd5-f922-4770-9124-eee90a1ef8c3",
   "metadata": {},
   "outputs": [
    {
     "data": {
      "text/plain": [
       "(18240, 11)"
      ]
     },
     "execution_count": 77,
     "metadata": {},
     "output_type": "execute_result"
    }
   ],
   "source": [
    "#total rows and columns \n",
    "df.shape"
   ]
  },
  {
   "cell_type": "code",
   "execution_count": 4,
   "id": "f5cd41d9-35b7-425b-b50b-59ea6a92ac55",
   "metadata": {},
   "outputs": [
    {
     "data": {
      "text/plain": [
       "Unnamed: 0        0\n",
       "Author_ID         0\n",
       "Date_of_tweet     0\n",
       "Tweet             0\n",
       "Likes_on_tweet    0\n",
       "User_handle       0\n",
       "Tweet_link        0\n",
       "dtype: int64"
      ]
     },
     "execution_count": 4,
     "metadata": {},
     "output_type": "execute_result"
    }
   ],
   "source": [
    "df.isnull().sum() # no null values"
   ]
  },
  {
   "cell_type": "code",
   "execution_count": 6,
   "id": "a52665fe-ae4e-46fa-80a1-1bb2431f5f44",
   "metadata": {},
   "outputs": [],
   "source": [
    "#delete the unwanted column from the dataset\n",
    "df.drop(columns= ['Unnamed: 0'], inplace = True)"
   ]
  },
  {
   "cell_type": "code",
   "execution_count": 16,
   "id": "583b4152-0b78-4adc-8f0a-18ff6fd722ee",
   "metadata": {},
   "outputs": [
    {
     "data": {
      "text/html": [
       "<div>\n",
       "<style scoped>\n",
       "    .dataframe tbody tr th:only-of-type {\n",
       "        vertical-align: middle;\n",
       "    }\n",
       "\n",
       "    .dataframe tbody tr th {\n",
       "        vertical-align: top;\n",
       "    }\n",
       "\n",
       "    .dataframe thead th {\n",
       "        text-align: right;\n",
       "    }\n",
       "</style>\n",
       "<table border=\"1\" class=\"dataframe\">\n",
       "  <thead>\n",
       "    <tr style=\"text-align: right;\">\n",
       "      <th></th>\n",
       "      <th>Author_ID</th>\n",
       "      <th>Date_of_tweet</th>\n",
       "      <th>Tweet</th>\n",
       "      <th>Likes_on_tweet</th>\n",
       "      <th>User_handle</th>\n",
       "      <th>Tweet_link</th>\n",
       "    </tr>\n",
       "  </thead>\n",
       "  <tbody>\n",
       "    <tr>\n",
       "      <th>0</th>\n",
       "      <td>60483175</td>\n",
       "      <td>2020-08-04 23:31:59+00:00</td>\n",
       "      <td>Historically #TamilNadu has been a state with ...</td>\n",
       "      <td>1</td>\n",
       "      <td>venkattcv</td>\n",
       "      <td>https://twitter.com/venkattcv/status/129079263...</td>\n",
       "    </tr>\n",
       "    <tr>\n",
       "      <th>1</th>\n",
       "      <td>1178900491595636736</td>\n",
       "      <td>2020-08-04 23:31:56+00:00</td>\n",
       "      <td>#HelloStrangerEP6 #HarrisonFord #GeorgeFloyd #...</td>\n",
       "      <td>0</td>\n",
       "      <td>BethEYoung3</td>\n",
       "      <td>https://twitter.com/BethEYoung3/status/1290792...</td>\n",
       "    </tr>\n",
       "    <tr>\n",
       "      <th>2</th>\n",
       "      <td>1072481505090318341</td>\n",
       "      <td>2020-08-04 22:22:30+00:00</td>\n",
       "      <td>@cbseindia29 @PMOIndia @narendramodi @DrRPNish...</td>\n",
       "      <td>1</td>\n",
       "      <td>PatelPrerak18</td>\n",
       "      <td>https://twitter.com/PatelPrerak18/status/12907...</td>\n",
       "    </tr>\n",
       "    <tr>\n",
       "      <th>3</th>\n",
       "      <td>583518901</td>\n",
       "      <td>2020-08-04 22:20:56+00:00</td>\n",
       "      <td>@PMOIndia’s anti-democratic #NEP2020 was 400+ ...</td>\n",
       "      <td>1</td>\n",
       "      <td>kchongpacrim</td>\n",
       "      <td>https://twitter.com/kchongpacrim/status/129077...</td>\n",
       "    </tr>\n",
       "    <tr>\n",
       "      <th>4</th>\n",
       "      <td>36339871</td>\n",
       "      <td>2020-08-04 21:01:14+00:00</td>\n",
       "      <td>The latest The Nursing Education Daily! http:/...</td>\n",
       "      <td>0</td>\n",
       "      <td>SkyscapeInc</td>\n",
       "      <td>https://twitter.com/SkyscapeInc/status/1290754...</td>\n",
       "    </tr>\n",
       "    <tr>\n",
       "      <th>5</th>\n",
       "      <td>816750343405060098</td>\n",
       "      <td>2020-08-04 20:33:32+00:00</td>\n",
       "      <td>With Rafale India has strengthened it's defenc...</td>\n",
       "      <td>3</td>\n",
       "      <td>MAHIsouravmaji</td>\n",
       "      <td>https://twitter.com/MAHIsouravmaji/status/1290...</td>\n",
       "    </tr>\n",
       "    <tr>\n",
       "      <th>6</th>\n",
       "      <td>1285274012713578496</td>\n",
       "      <td>2020-08-04 20:31:35+00:00</td>\n",
       "      <td>as soon as this pandemic will end I'm going ba...</td>\n",
       "      <td>1</td>\n",
       "      <td>eunwo_oyaa</td>\n",
       "      <td>https://twitter.com/eunwo_oyaa/status/12907472...</td>\n",
       "    </tr>\n",
       "    <tr>\n",
       "      <th>7</th>\n",
       "      <td>1449849985</td>\n",
       "      <td>2020-08-04 20:20:16+00:00</td>\n",
       "      <td>Finally those adverts of Amity University and ...</td>\n",
       "      <td>31</td>\n",
       "      <td>tigerAkD</td>\n",
       "      <td>https://twitter.com/tigerAkD/status/1290744384...</td>\n",
       "    </tr>\n",
       "    <tr>\n",
       "      <th>8</th>\n",
       "      <td>1253469807942369281</td>\n",
       "      <td>2020-08-04 20:09:06+00:00</td>\n",
       "      <td>Bollywood is not HINDI Film industry, It's urd...</td>\n",
       "      <td>11</td>\n",
       "      <td>telugu_veera</td>\n",
       "      <td>https://twitter.com/telugu_veera/status/129074...</td>\n",
       "    </tr>\n",
       "    <tr>\n",
       "      <th>9</th>\n",
       "      <td>916541521</td>\n",
       "      <td>2020-08-04 20:01:22+00:00</td>\n",
       "      <td>NEP 2020 can propel India's emergence as an ed...</td>\n",
       "      <td>2</td>\n",
       "      <td>BLOnCampus</td>\n",
       "      <td>https://twitter.com/BLOnCampus/status/12907396...</td>\n",
       "    </tr>\n",
       "  </tbody>\n",
       "</table>\n",
       "</div>"
      ],
      "text/plain": [
       "             Author_ID              Date_of_tweet  \\\n",
       "0             60483175  2020-08-04 23:31:59+00:00   \n",
       "1  1178900491595636736  2020-08-04 23:31:56+00:00   \n",
       "2  1072481505090318341  2020-08-04 22:22:30+00:00   \n",
       "3            583518901  2020-08-04 22:20:56+00:00   \n",
       "4             36339871  2020-08-04 21:01:14+00:00   \n",
       "5   816750343405060098  2020-08-04 20:33:32+00:00   \n",
       "6  1285274012713578496  2020-08-04 20:31:35+00:00   \n",
       "7           1449849985  2020-08-04 20:20:16+00:00   \n",
       "8  1253469807942369281  2020-08-04 20:09:06+00:00   \n",
       "9            916541521  2020-08-04 20:01:22+00:00   \n",
       "\n",
       "                                               Tweet  Likes_on_tweet  \\\n",
       "0  Historically #TamilNadu has been a state with ...               1   \n",
       "1  #HelloStrangerEP6 #HarrisonFord #GeorgeFloyd #...               0   \n",
       "2  @cbseindia29 @PMOIndia @narendramodi @DrRPNish...               1   \n",
       "3  @PMOIndia’s anti-democratic #NEP2020 was 400+ ...               1   \n",
       "4  The latest The Nursing Education Daily! http:/...               0   \n",
       "5  With Rafale India has strengthened it's defenc...               3   \n",
       "6  as soon as this pandemic will end I'm going ba...               1   \n",
       "7  Finally those adverts of Amity University and ...              31   \n",
       "8  Bollywood is not HINDI Film industry, It's urd...              11   \n",
       "9  NEP 2020 can propel India's emergence as an ed...               2   \n",
       "\n",
       "      User_handle                                         Tweet_link  \n",
       "0       venkattcv  https://twitter.com/venkattcv/status/129079263...  \n",
       "1     BethEYoung3  https://twitter.com/BethEYoung3/status/1290792...  \n",
       "2   PatelPrerak18  https://twitter.com/PatelPrerak18/status/12907...  \n",
       "3    kchongpacrim  https://twitter.com/kchongpacrim/status/129077...  \n",
       "4     SkyscapeInc  https://twitter.com/SkyscapeInc/status/1290754...  \n",
       "5  MAHIsouravmaji  https://twitter.com/MAHIsouravmaji/status/1290...  \n",
       "6      eunwo_oyaa  https://twitter.com/eunwo_oyaa/status/12907472...  \n",
       "7        tigerAkD  https://twitter.com/tigerAkD/status/1290744384...  \n",
       "8    telugu_veera  https://twitter.com/telugu_veera/status/129074...  \n",
       "9      BLOnCampus  https://twitter.com/BLOnCampus/status/12907396...  "
      ]
     },
     "execution_count": 16,
     "metadata": {},
     "output_type": "execute_result"
    }
   ],
   "source": [
    "df.head(10)"
   ]
  },
  {
   "cell_type": "code",
   "execution_count": 7,
   "id": "7ac5a252-35de-488b-89b6-fff58fb92aea",
   "metadata": {},
   "outputs": [
    {
     "data": {
      "text/plain": [
       "Index(['Author_ID', 'Date_of_tweet', 'Tweet', 'Likes_on_tweet', 'User_handle',\n",
       "       'Tweet_link'],\n",
       "      dtype='object')"
      ]
     },
     "execution_count": 7,
     "metadata": {},
     "output_type": "execute_result"
    }
   ],
   "source": [
    "df.columns"
   ]
  },
  {
   "cell_type": "code",
   "execution_count": 8,
   "id": "6165c954-4ea8-42b6-a988-6d7ef5a69e0c",
   "metadata": {},
   "outputs": [],
   "source": [
    "#df['User_handle']= df['User_handle'].str.lower()"
   ]
  },
  {
   "cell_type": "markdown",
   "id": "d18ec2cb-b7a3-40bc-bf46-282599a332f9",
   "metadata": {},
   "source": [
    "# total tweet count"
   ]
  },
  {
   "cell_type": "code",
   "execution_count": 62,
   "id": "de4deff9-b9fc-476f-b2f1-1802a6681cb4",
   "metadata": {},
   "outputs": [
    {
     "name": "stdout",
     "output_type": "stream",
     "text": [
      "Total tweets: 18240\n"
     ]
    }
   ],
   "source": [
    "total_tweets = len(df)\n",
    "print(f\"Total tweets: {total_tweets}\")"
   ]
  },
  {
   "cell_type": "markdown",
   "id": "04ea6844-74db-479c-a03a-8156d6241aa1",
   "metadata": {},
   "source": [
    "# Total and Average number of likes"
   ]
  },
  {
   "cell_type": "code",
   "execution_count": 16,
   "id": "99953428-5b67-4ec1-8941-4a04898a73f2",
   "metadata": {},
   "outputs": [
    {
     "name": "stdout",
     "output_type": "stream",
     "text": [
      "176436\n",
      "9.673026315789473\n"
     ]
    }
   ],
   "source": [
    "total_likes = df['Likes_on_tweet'].sum()\n",
    "average_likes = df['Likes_on_tweet'].mean()\n",
    "\n",
    "print(f\"Total likes: {total_likes}\")\n",
    "print(f\"Average likes: {average_likes:.2f}\")"
   ]
  },
  {
   "cell_type": "markdown",
   "id": "887b9c11-2cf8-439e-951f-137e68ba7d46",
   "metadata": {},
   "source": [
    "# Most and least liked tweets with all details"
   ]
  },
  {
   "cell_type": "code",
   "execution_count": 83,
   "id": "226ed1fc-b037-4771-8711-d967c4cffb90",
   "metadata": {},
   "outputs": [
    {
     "name": "stdout",
     "output_type": "stream",
     "text": [
      "Most liked tweet:\n",
      "Author_ID                                                 1065563383\n",
      "Date_of_tweet                              2020-08-04 12:28:57+00:00\n",
      "Tweet              First it was #Rafale Then #NEP2020 Tomorrow #R...\n",
      "Likes_on_tweet                                                  6138\n",
      "User_handle                                               blsanthosh\n",
      "Tweet_link         https://twitter.com/blsanthosh/status/12906257...\n",
      "Hour                                                              12\n",
      "Clean_Tweet        first it was  then  tomorrow  truly amazing jo...\n",
      "Sentiment_Score                                               0.8481\n",
      "Sentiment                                                   Positive\n",
      "Polarity                                                      0.8481\n",
      "Name: 257, dtype: object\n",
      "\n",
      "Least liked tweet:\n",
      "Author_ID                                        1178900491595636736\n",
      "Date_of_tweet                              2020-08-04 23:31:56+00:00\n",
      "Tweet              #HelloStrangerEP6 #HarrisonFord #GeorgeFloyd #...\n",
      "Likes_on_tweet                                                     0\n",
      "User_handle                                              BethEYoung3\n",
      "Tweet_link         https://twitter.com/BethEYoung3/status/1290792...\n",
      "Hour                                                              23\n",
      "Clean_Tweet                                                  feeling\n",
      "Sentiment_Score                                                0.128\n",
      "Sentiment                                                   Positive\n",
      "Polarity                                                       0.128\n",
      "Name: 1, dtype: object\n"
     ]
    }
   ],
   "source": [
    "most_liked = df.loc[df['Likes_on_tweet'].idxmax()]\n",
    "least_liked = df.loc[df['Likes_on_tweet'].idxmin()]\n",
    "\n",
    "print(\"Most liked tweet:\")\n",
    "print(most_liked)\n",
    "print('')\n",
    "print(\"Least liked tweet:\")\n",
    "print(least_liked)"
   ]
  },
  {
   "cell_type": "code",
   "execution_count": 69,
   "id": "071b1125-c740-495e-abd9-baa5a3c5f93c",
   "metadata": {},
   "outputs": [
    {
     "data": {
      "text/plain": [
       "Author_ID                        int64\n",
       "Date_of_tweet      datetime64[ns, UTC]\n",
       "Tweet                           object\n",
       "Likes_on_tweet                   int64\n",
       "User_handle                     object\n",
       "Tweet_link                      object\n",
       "Hour                             int64\n",
       "Clean_Tweet                     object\n",
       "Sentiment_Score                float64\n",
       "Sentiment                       object\n",
       "Polarity                       float64\n",
       "dtype: object"
      ]
     },
     "execution_count": 69,
     "metadata": {},
     "output_type": "execute_result"
    }
   ],
   "source": [
    "df.dtypes"
   ]
  },
  {
   "cell_type": "code",
   "execution_count": 70,
   "id": "0273ae63-5262-4b7a-aaee-ebe64ec28caa",
   "metadata": {},
   "outputs": [],
   "source": [
    "#converting [Date_of_tweet] to pd.to_datetime and [Hour ]to dt.hour\n",
    "df['Date_of_tweet'] = pd.to_datetime(df['Date_of_tweet'])\n",
    "df['Hour'] = df['Date_of_tweet'].dt.hour"
   ]
  },
  {
   "cell_type": "code",
   "execution_count": 79,
   "id": "43ba8011-6347-41f2-a393-0d16466f2175",
   "metadata": {},
   "outputs": [
    {
     "data": {
      "text/html": [
       "<div>\n",
       "<style scoped>\n",
       "    .dataframe tbody tr th:only-of-type {\n",
       "        vertical-align: middle;\n",
       "    }\n",
       "\n",
       "    .dataframe tbody tr th {\n",
       "        vertical-align: top;\n",
       "    }\n",
       "\n",
       "    .dataframe thead th {\n",
       "        text-align: right;\n",
       "    }\n",
       "</style>\n",
       "<table border=\"1\" class=\"dataframe\">\n",
       "  <thead>\n",
       "    <tr style=\"text-align: right;\">\n",
       "      <th></th>\n",
       "      <th>Author_ID</th>\n",
       "      <th>Date_of_tweet</th>\n",
       "      <th>Tweet</th>\n",
       "      <th>Likes_on_tweet</th>\n",
       "      <th>User_handle</th>\n",
       "      <th>Tweet_link</th>\n",
       "      <th>Hour</th>\n",
       "      <th>Clean_Tweet</th>\n",
       "      <th>Sentiment_Score</th>\n",
       "      <th>Sentiment</th>\n",
       "      <th>Polarity</th>\n",
       "    </tr>\n",
       "  </thead>\n",
       "  <tbody>\n",
       "    <tr>\n",
       "      <th>0</th>\n",
       "      <td>60483175</td>\n",
       "      <td>2020-08-04 23:31:59+00:00</td>\n",
       "      <td>Historically #TamilNadu has been a state with ...</td>\n",
       "      <td>1</td>\n",
       "      <td>venkattcv</td>\n",
       "      <td>https://twitter.com/venkattcv/status/129079263...</td>\n",
       "      <td>23</td>\n",
       "      <td>historically  has been a state with progressiv...</td>\n",
       "      <td>0.8621</td>\n",
       "      <td>Positive</td>\n",
       "      <td>0.8621</td>\n",
       "    </tr>\n",
       "    <tr>\n",
       "      <th>1</th>\n",
       "      <td>1178900491595636736</td>\n",
       "      <td>2020-08-04 23:31:56+00:00</td>\n",
       "      <td>#HelloStrangerEP6 #HarrisonFord #GeorgeFloyd #...</td>\n",
       "      <td>0</td>\n",
       "      <td>BethEYoung3</td>\n",
       "      <td>https://twitter.com/BethEYoung3/status/1290792...</td>\n",
       "      <td>23</td>\n",
       "      <td>feeling</td>\n",
       "      <td>0.1280</td>\n",
       "      <td>Positive</td>\n",
       "      <td>0.1280</td>\n",
       "    </tr>\n",
       "    <tr>\n",
       "      <th>2</th>\n",
       "      <td>1072481505090318341</td>\n",
       "      <td>2020-08-04 22:22:30+00:00</td>\n",
       "      <td>@cbseindia29 @PMOIndia @narendramodi @DrRPNish...</td>\n",
       "      <td>1</td>\n",
       "      <td>PatelPrerak18</td>\n",
       "      <td>https://twitter.com/PatelPrerak18/status/12907...</td>\n",
       "      <td>22</td>\n",
       "      <td>is trending with its all new features of...</td>\n",
       "      <td>0.6542</td>\n",
       "      <td>Positive</td>\n",
       "      <td>0.6542</td>\n",
       "    </tr>\n",
       "  </tbody>\n",
       "</table>\n",
       "</div>"
      ],
      "text/plain": [
       "             Author_ID             Date_of_tweet  \\\n",
       "0             60483175 2020-08-04 23:31:59+00:00   \n",
       "1  1178900491595636736 2020-08-04 23:31:56+00:00   \n",
       "2  1072481505090318341 2020-08-04 22:22:30+00:00   \n",
       "\n",
       "                                               Tweet  Likes_on_tweet  \\\n",
       "0  Historically #TamilNadu has been a state with ...               1   \n",
       "1  #HelloStrangerEP6 #HarrisonFord #GeorgeFloyd #...               0   \n",
       "2  @cbseindia29 @PMOIndia @narendramodi @DrRPNish...               1   \n",
       "\n",
       "     User_handle                                         Tweet_link  Hour  \\\n",
       "0      venkattcv  https://twitter.com/venkattcv/status/129079263...    23   \n",
       "1    BethEYoung3  https://twitter.com/BethEYoung3/status/1290792...    23   \n",
       "2  PatelPrerak18  https://twitter.com/PatelPrerak18/status/12907...    22   \n",
       "\n",
       "                                         Clean_Tweet  Sentiment_Score  \\\n",
       "0  historically  has been a state with progressiv...           0.8621   \n",
       "1                                            feeling           0.1280   \n",
       "2        is trending with its all new features of...           0.6542   \n",
       "\n",
       "  Sentiment  Polarity  \n",
       "0  Positive    0.8621  \n",
       "1  Positive    0.1280  \n",
       "2  Positive    0.6542  "
      ]
     },
     "execution_count": 79,
     "metadata": {},
     "output_type": "execute_result"
    }
   ],
   "source": [
    "df.head(3)"
   ]
  },
  {
   "cell_type": "code",
   "execution_count": 72,
   "id": "02351da7-8419-4ead-9a5d-840a60b7f401",
   "metadata": {},
   "outputs": [
    {
     "data": {
      "image/png": "[encoded data removed]",
      "text/plain": [
       "<Figure size 432x288 with 1 Axes>"
      ]
     },
     "metadata": {
      "needs_background": "light"
     },
     "output_type": "display_data"
    }
   ],
   "source": [
    "# Plot distribution of tweet times, the time tweets were made\n",
    "# like in 1 hors how many tweets done so according to 24 hours\n",
    "import matplotlib.pyplot as plt\n",
    "\n",
    "plt.hist(df['Hour'], bins=24, edgecolor='k')\n",
    "plt.title('Distribution of Tweet Times')\n",
    "plt.xlabel('Hour of the Day')\n",
    "plt.ylabel('Number of Tweets')\n",
    "plt.show()"
   ]
  },
  {
   "cell_type": "markdown",
   "id": "4faa4353-cfe2-4292-910c-17ec83a9ce2f",
   "metadata": {},
   "source": [
    "# user analysis"
   ]
  },
  {
   "cell_type": "code",
   "execution_count": 81,
   "id": "2ac437e9-2ca1-4168-951b-54b358e11938",
   "metadata": {},
   "outputs": [
    {
     "name": "stdout",
     "output_type": "stream",
     "text": [
      "Top users by tweet count:\n",
      "Shalini040876      66\n",
      "DrRPNishank        62\n",
      "jaganna25145187    60\n",
      "mygovindia         58\n",
      "AmbikaPattanaik    57\n",
      "                   ..\n",
      "sio_bhilai          1\n",
      "PrdpRajpurohit      1\n",
      "myfinology          1\n",
      "mridula2c           1\n",
      "Avishkaardotcc      1\n",
      "Name: User_handle, Length: 5395, dtype: int64\n",
      "\n",
      "Top users by total likes:\n",
      "User_handle\n",
      "DrRPNishank        46110\n",
      "HRDMinistry        16466\n",
      "blsanthosh         12271\n",
      "mygovindia          8991\n",
      "NAN_DINI_           3872\n",
      "                   ...  \n",
      "jatin_rajpoot          0\n",
      "jatin_gulab            0\n",
      "jasminepradhan6        0\n",
      "Rameshchotiya1         0\n",
      "TapasPanda18           0\n",
      "Name: Likes_on_tweet, Length: 5395, dtype: int64\n"
     ]
    }
   ],
   "source": [
    "# Top users by count of tweets\n",
    "top_users = df['User_handle'].value_counts()\n",
    "\n",
    "# Top user according to total likes\n",
    "top_users_likes = df.groupby('User_handle')['Likes_on_tweet'].sum().sort_values(ascending=False)\n",
    "\n",
    "print(\"Top users by tweet count:\")\n",
    "print(top_users)\n",
    "print('')\n",
    "print(\"Top users by total likes:\")\n",
    "print(top_users_likes)"
   ]
  },
  {
   "cell_type": "code",
   "execution_count": 32,
   "id": "f18deb8b-14d0-46bc-9fa0-72a532d880e2",
   "metadata": {},
   "outputs": [
    {
     "name": "stdout",
     "output_type": "stream",
     "text": [
      "Most common words:\n",
      "[('the', 22281), ('nep2020', 18936), ('to', 17169), ('of', 15111), ('education', 12965), ('in', 11422), ('a', 9107), ('and', 8217), ('for', 7244), ('is', 7050)]\n"
     ]
    }
   ],
   "source": [
    "#Content Analysis like most common words used in the tweet\n",
    "from collections import Counter\n",
    "import re\n",
    "\n",
    "# Join all tweets into a single string\n",
    "all_tweets = ' '.join(df['Tweet'])\n",
    "\n",
    "# Remove punctuation and split into words\n",
    "words = re.findall(r'\\w+', all_tweets.lower())\n",
    "\n",
    "# Get word frequency using counter\n",
    "word_freq = Counter(words)\n",
    "\n",
    "# Most common words\n",
    "most_common_words = word_freq.most_common(10)\n",
    "print(\"Most common words:\")\n",
    "print(most_common_words)\n"
   ]
  },
  {
   "cell_type": "markdown",
   "id": "bdcfa2bd-e0b4-4592-b2c5-046a833272bb",
   "metadata": {},
   "source": [
    "# Sentimental Analysis"
   ]
  },
  {
   "cell_type": "code",
   "execution_count": 33,
   "id": "4f9ef79c-5ae5-492f-82bd-af38d59b3021",
   "metadata": {},
   "outputs": [],
   "source": [
    "from nltk.corpus import stopwords\n",
    "from nltk.tokenize import word_tokenize\n",
    "\n",
    "import seaborn as sns"
   ]
  },
  {
   "cell_type": "code",
   "execution_count": 53,
   "id": "d750d1f3-ca88-4eb5-a754-5d86d5d3cb15",
   "metadata": {},
   "outputs": [
    {
     "data": {
      "text/plain": [
       "0        Historically #TamilNadu has been a state with ...\n",
       "1        #HelloStrangerEP6 #HarrisonFord #GeorgeFloyd #...\n",
       "2        @cbseindia29 @PMOIndia @narendramodi @DrRPNish...\n",
       "3        @PMOIndia’s anti-democratic #NEP2020 was 400+ ...\n",
       "4        The latest The Nursing Education Daily! http:/...\n",
       "                               ...                        \n",
       "18235    First it was #Rafale Then #NEP2020 Tomorrow #R...\n",
       "18236    @KVishReddy sir would like to hear your remark...\n",
       "18237    While 6% of #GDP Announced 4 #NEP2020 is a #Ju...\n",
       "18238    Retrograde mindset of the political parties in...\n",
       "18239    What’s the big problem for political parties i...\n",
       "Name: Tweet, Length: 18240, dtype: object"
      ]
     },
     "execution_count": 53,
     "metadata": {},
     "output_type": "execute_result"
    }
   ],
   "source": [
    "df['Tweet']"
   ]
  },
  {
   "cell_type": "code",
   "execution_count": 55,
   "id": "41cba3c8-7bd8-4315-b653-b047bfb88107",
   "metadata": {},
   "outputs": [
    {
     "name": "stdout",
     "output_type": "stream",
     "text": [
      "                                                   Tweet  \\\n",
      "0      Historically #TamilNadu has been a state with ...   \n",
      "1      #HelloStrangerEP6 #HarrisonFord #GeorgeFloyd #...   \n",
      "2      @cbseindia29 @PMOIndia @narendramodi @DrRPNish...   \n",
      "3      @PMOIndia’s anti-democratic #NEP2020 was 400+ ...   \n",
      "4      The latest The Nursing Education Daily! http:/...   \n",
      "...                                                  ...   \n",
      "18235  First it was #Rafale Then #NEP2020 Tomorrow #R...   \n",
      "18236  @KVishReddy sir would like to hear your remark...   \n",
      "18237  While 6% of #GDP Announced 4 #NEP2020 is a #Ju...   \n",
      "18238  Retrograde mindset of the political parties in...   \n",
      "18239  What’s the big problem for political parties i...   \n",
      "\n",
      "                                             Clean_Tweet  \n",
      "0      historically  has been a state with progressiv...  \n",
      "1                                                feeling  \n",
      "2            is trending with its all new features of...  \n",
      "3      s antidemocratic  was  pgs in  draft and someh...  \n",
      "4      the latest the nursing education daily  thanks...  \n",
      "...                                                  ...  \n",
      "18235  first it was  then  tomorrow  truly amazing jo...  \n",
      "18236   sir would like to hear your remarks on  draft...  \n",
      "18237  while  of  announced   is a  can v expect anot...  \n",
      "18238  retrograde mindset of the political parties in...  \n",
      "18239  whats the big problem for political parties in...  \n",
      "\n",
      "[18240 rows x 2 columns]\n"
     ]
    }
   ],
   "source": [
    "# we are cleaning the data like reoving pantuatuion marks\n",
    "#converting inot lowercase\n",
    "def clean_tweet(tweet):\n",
    "    #eliminate all the URLs\n",
    "    tweet = re.sub(r'http\\S+', '', tweet)\n",
    "   #eliminate all thementions and hashtags\n",
    "    tweet = re.sub(r'@\\w+|#\\w+', '', tweet)\n",
    "   #eliminate all the punctuation\n",
    "    tweet = re.sub(r'[^\\w\\s]', '', tweet)\n",
    "   #eliminate all thenumbers\n",
    "    tweet = re.sub(r'\\d+', '', tweet)\n",
    "    \n",
    "    #converting into Lowercase because the sentice is case sentisiver\n",
    "    tweet = tweet.lower()\n",
    "    return tweet\n",
    "\n",
    "df['Clean_Tweet'] = df['Tweet'].apply(clean_tweet)\n",
    "print(df[['Tweet', 'Clean_Tweet']])"
   ]
  },
  {
   "cell_type": "code",
   "execution_count": null,
   "id": "aa203ac7-d9e2-4a60-a040-acb668f36d9b",
   "metadata": {},
   "outputs": [],
   "source": [
    "# Download VADER lexicon\n",
    "nltk.download('vader_lexicon')"
   ]
  },
  {
   "cell_type": "markdown",
   "id": "d4de0e05-d451-435f-a688-a7ae4bd32d02",
   "metadata": {},
   "source": [
    "# postive and negative polarity"
   ]
  },
  {
   "cell_type": "code",
   "execution_count": 82,
   "id": "b1eb0703-944c-4052-b9e0-144e50bfcf6e",
   "metadata": {},
   "outputs": [
    {
     "name": "stdout",
     "output_type": "stream",
     "text": [
      "                                             Clean_Tweet Sentiment  Polarity\n",
      "0      historically  has been a state with progressiv...  Positive    0.8621\n",
      "1                                                feeling  Positive    0.1280\n",
      "2            is trending with its all new features of...  Positive    0.6542\n",
      "3      s antidemocratic  was  pgs in  draft and someh...  Positive    0.1280\n",
      "4      the latest the nursing education daily  thanks...  Positive    0.4404\n",
      "...                                                  ...       ...       ...\n",
      "18235  first it was  then  tomorrow  truly amazing jo...  Positive    0.8481\n",
      "18236   sir would like to hear your remarks on  draft...  Positive    0.0094\n",
      "18237  while  of  announced   is a  can v expect anot...   Neutral    0.0000\n",
      "18238  retrograde mindset of the political parties in...  Positive    0.7964\n",
      "18239  whats the big problem for political parties in...  Positive    0.8402\n",
      "\n",
      "[18240 rows x 3 columns]\n"
     ]
    }
   ],
   "source": [
    "#using Vader sentiment analyzer for better performace \n",
    "\n",
    "sid = SentimentIntensityAnalyzer()\n",
    "\n",
    "#fimding sentiment score\n",
    "def get_sentiment(tweet):\n",
    "    scores = sid.polarity_scores(tweet)\n",
    "    return scores['compound']\n",
    "\n",
    "df['Sentiment_Score'] = df['Clean_Tweet'].apply(get_sentiment)\n",
    "\n",
    "# Catorgarized tweets as positive, negative, or neutral\n",
    "df['Sentiment'] = df['Sentiment_Score'].apply(lambda x: 'Positive' if x > 0 else ('Negative' if x < 0 else 'Neutral'))\n",
    "\n",
    "#calclat6ion Polarity \n",
    "df['Polarity'] = df['Sentiment_Score']\n",
    "\n",
    "#cleaned tweets with their sentiment scores and polarity\n",
    "print(df[['Clean_Tweet', 'Sentiment', 'Polarity']])"
   ]
  },
  {
   "cell_type": "code",
   "execution_count": 43,
   "id": "71567b44-d6ea-4a8a-89cd-dee02aa7e728",
   "metadata": {},
   "outputs": [
    {
     "data": {
      "image/png": "[encoded data removed]",
      "text/plain": [
       "<Figure size 432x288 with 1 Axes>"
      ]
     },
     "metadata": {
      "needs_background": "light"
     },
     "output_type": "display_data"
    }
   ],
   "source": [
    "# Plot distribution of sentiments\n",
    "sns.countplot(x='Sentiment', data=df)\n",
    "plt.title('Distribution of Tweet Sentiments')\n",
    "plt.xlabel('Sentiment')\n",
    "plt.ylabel('Number of Tweets')\n",
    "plt.show()\n",
    "\n",
    "#positive: presence of postive words\n",
    "#negative: presence of negative words\n",
    "#neural: prsence of both + and - words eyqually\n"
   ]
  },
  {
   "cell_type": "code",
   "execution_count": 45,
   "id": "98ee9bda-4239-4d4d-bc08-474e04858138",
   "metadata": {},
   "outputs": [
    {
     "data": {
      "image/png": "[encoded data removed]",
      "text/plain": [
       "<Figure size 432x288 with 1 Axes>"
      ]
     },
     "metadata": {
      "needs_background": "light"
     },
     "output_type": "display_data"
    }
   ],
   "source": [
    "# Plot sentiment scores\n",
    "plt.hist(df['Sentiment_Score'], bins=20, edgecolor='k')\n",
    "plt.title('Distribution of Sentiment Scores')\n",
    "plt.xlabel('Sentiment Score')\n",
    "plt.ylabel('Number of Tweets')\n",
    "plt.show()\n"
   ]
  },
  {
   "cell_type": "markdown",
   "id": "509e211c-1fc5-439e-943f-a770b82e0be7",
   "metadata": {},
   "source": [
    "# POSITIVE and NEGATIVE TWEETS Graph"
   ]
  },
  {
   "cell_type": "code",
   "execution_count": 47,
   "id": "6f2b13b9-43ba-40ee-8507-372f65bf44d9",
   "metadata": {},
   "outputs": [],
   "source": [
    "# Separate positive and negative tweets\n",
    "positive_tweets = df[df['Sentiment'] == 'Positive']\n",
    "negative_tweets = df[df['Sentiment'] == 'Negative']"
   ]
  },
  {
   "cell_type": "code",
   "execution_count": 91,
   "id": "eff0dba9-b6aa-4cfc-a18c-ad9e73c446f3",
   "metadata": {},
   "outputs": [
    {
     "data": {
      "image/png": "[encoded data removed]",
      "text/plain": [
       "<Figure size 720x432 with 1 Axes>"
      ]
     },
     "metadata": {
      "needs_background": "light"
     },
     "output_type": "display_data"
    }
   ],
   "source": [
    "# Plot positive tweets with log scaling on y-axis\n",
    "plt.figure(figsize=(10, 6))\n",
    "x=sns.histplot(positive_tweets['Likes_on_tweet'], bins=20, kde=False,color= 'Green')\n",
    "plt.yscale('log')\n",
    "plt.title('Positive Tweets by Likes')\n",
    "plt.xlabel('Number of Likes')\n",
    "plt.ylabel('Number of Positive Tweets')\n",
    "for p in x.patches:\n",
    "    height = p.get_height()\n",
    "    if height > 0:  # Only add label if height is non-zero\n",
    "        plt.text(p.get_x() + p.get_width() / 2, height, f'{int(height)}', ha='center', va='bottom')\n",
    "\n",
    "\n",
    "plt.show()"
   ]
  },
  {
   "cell_type": "code",
   "execution_count": 95,
   "id": "8f6111fb-4eb0-4cac-aa9f-403ab80144e2",
   "metadata": {},
   "outputs": [
    {
     "data": {
      "image/png": "[encoded data removed]",
      "text/plain": [
       "<Figure size 720x432 with 1 Axes>"
      ]
     },
     "metadata": {
      "needs_background": "light"
     },
     "output_type": "display_data"
    }
   ],
   "source": [
    "# Plot negative tweets with log scaling on y-axis\n",
    "plt.figure(figsize=(10, 6))\n",
    "sns.histplot(negative_tweets['Likes_on_tweet'], bins=20, kde=False,color='pink')\n",
    "plt.yscale('log')\n",
    "plt.title('Negative Tweets by Likes')\n",
    "plt.xlabel('Number of Likes')\n",
    "plt.ylabel('Number of Negative Tweets')\n",
    "\n",
    "plt.show()"
   ]
  },
  {
   "cell_type": "code",
   "execution_count": null,
   "id": "eeb1ef05-14d9-4c04-839c-d036407b790a",
   "metadata": {},
   "outputs": [],
   "source": []
  },
  {
   "cell_type": "code",
   "execution_count": null,
   "id": "694b6d64-8802-4a27-9545-ece67ec01d7c",
   "metadata": {},
   "outputs": [],
   "source": []
  },
  {
   "cell_type": "code",
   "execution_count": null,
   "id": "50b1be4f-c6e9-4443-bc22-ea22ac7faa59",
   "metadata": {},
   "outputs": [],
   "source": []
  },
  {
   "cell_type": "code",
   "execution_count": null,
   "id": "fef658e4-eb15-4562-bf9e-05fd0548e7ce",
   "metadata": {},
   "outputs": [],
   "source": []
  }
 ],
 "metadata": {
  "kernelspec": {
   "display_name": "Python 3",
   "language": "python",
   "name": "python3"
  },
  "language_info": {
   "codemirror_mode": {
    "name": "ipython",
    "version": 3
   },
   "file_extension": ".py",
   "mimetype": "text/x-python",
   "name": "python",
   "nbconvert_exporter": "python",
   "pygments_lexer": "ipython3",
   "version": "3.8.8"
  }
 },
 "nbformat": 4,
 "nbformat_minor": 5
}
